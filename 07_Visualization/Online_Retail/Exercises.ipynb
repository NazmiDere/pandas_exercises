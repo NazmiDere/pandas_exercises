{
 "cells": [
  {
   "cell_type": "markdown",
   "metadata": {},
   "source": [
    "# Online Retails Purchase"
   ]
  },
  {
   "cell_type": "markdown",
   "metadata": {},
   "source": [
    "### Introduction:\n",
    "\n",
    "\n",
    "\n",
    "### Step 1. Import the necessary libraries"
   ]
  },
  {
   "cell_type": "code",
   "execution_count": 138,
   "metadata": {},
   "outputs": [],
   "source": [
    "import pandas as pd\n",
    "import matplotlib.pyplot as plt\n",
    "import seaborn as sns\n",
    "import numpy as np\n",
    "\n",
    "%matplotlib inline"
   ]
  },
  {
   "cell_type": "markdown",
   "metadata": {},
   "source": [
    "### Step 2. Import the dataset from this [address](https://raw.githubusercontent.com/guipsamora/pandas_exercises/master/07_Visualization/Online_Retail/Online_Retail.csv). "
   ]
  },
  {
   "cell_type": "markdown",
   "metadata": {},
   "source": [
    "### Step 3. Assign it to a variable called online_rt\n",
    "Note: if you receive a utf-8 decode error, set `encoding = 'latin1'` in `pd.read_csv()`."
   ]
  },
  {
   "cell_type": "code",
   "execution_count": 41,
   "metadata": {},
   "outputs": [],
   "source": [
    "online_rt = pd.read_csv('https://raw.githubusercontent.com/guipsamora/pandas_exercises/master/07_Visualization/Online_Retail/Online_Retail.csv', encoding='latin1')"
   ]
  },
  {
   "cell_type": "code",
   "execution_count": 42,
   "metadata": {},
   "outputs": [
    {
     "data": {
      "text/html": [
       "<div>\n",
       "<style scoped>\n",
       "    .dataframe tbody tr th:only-of-type {\n",
       "        vertical-align: middle;\n",
       "    }\n",
       "\n",
       "    .dataframe tbody tr th {\n",
       "        vertical-align: top;\n",
       "    }\n",
       "\n",
       "    .dataframe thead th {\n",
       "        text-align: right;\n",
       "    }\n",
       "</style>\n",
       "<table border=\"1\" class=\"dataframe\">\n",
       "  <thead>\n",
       "    <tr style=\"text-align: right;\">\n",
       "      <th></th>\n",
       "      <th>InvoiceNo</th>\n",
       "      <th>StockCode</th>\n",
       "      <th>Description</th>\n",
       "      <th>Quantity</th>\n",
       "      <th>InvoiceDate</th>\n",
       "      <th>UnitPrice</th>\n",
       "      <th>CustomerID</th>\n",
       "      <th>Country</th>\n",
       "    </tr>\n",
       "  </thead>\n",
       "  <tbody>\n",
       "    <tr>\n",
       "      <th>0</th>\n",
       "      <td>536365</td>\n",
       "      <td>85123A</td>\n",
       "      <td>WHITE HANGING HEART T-LIGHT HOLDER</td>\n",
       "      <td>6</td>\n",
       "      <td>12/1/10 8:26</td>\n",
       "      <td>2.55</td>\n",
       "      <td>17850.0</td>\n",
       "      <td>United Kingdom</td>\n",
       "    </tr>\n",
       "    <tr>\n",
       "      <th>1</th>\n",
       "      <td>536365</td>\n",
       "      <td>71053</td>\n",
       "      <td>WHITE METAL LANTERN</td>\n",
       "      <td>6</td>\n",
       "      <td>12/1/10 8:26</td>\n",
       "      <td>3.39</td>\n",
       "      <td>17850.0</td>\n",
       "      <td>United Kingdom</td>\n",
       "    </tr>\n",
       "    <tr>\n",
       "      <th>2</th>\n",
       "      <td>536365</td>\n",
       "      <td>84406B</td>\n",
       "      <td>CREAM CUPID HEARTS COAT HANGER</td>\n",
       "      <td>8</td>\n",
       "      <td>12/1/10 8:26</td>\n",
       "      <td>2.75</td>\n",
       "      <td>17850.0</td>\n",
       "      <td>United Kingdom</td>\n",
       "    </tr>\n",
       "    <tr>\n",
       "      <th>3</th>\n",
       "      <td>536365</td>\n",
       "      <td>84029G</td>\n",
       "      <td>KNITTED UNION FLAG HOT WATER BOTTLE</td>\n",
       "      <td>6</td>\n",
       "      <td>12/1/10 8:26</td>\n",
       "      <td>3.39</td>\n",
       "      <td>17850.0</td>\n",
       "      <td>United Kingdom</td>\n",
       "    </tr>\n",
       "    <tr>\n",
       "      <th>4</th>\n",
       "      <td>536365</td>\n",
       "      <td>84029E</td>\n",
       "      <td>RED WOOLLY HOTTIE WHITE HEART.</td>\n",
       "      <td>6</td>\n",
       "      <td>12/1/10 8:26</td>\n",
       "      <td>3.39</td>\n",
       "      <td>17850.0</td>\n",
       "      <td>United Kingdom</td>\n",
       "    </tr>\n",
       "  </tbody>\n",
       "</table>\n",
       "</div>"
      ],
      "text/plain": [
       "  InvoiceNo StockCode                          Description  Quantity  \\\n",
       "0    536365    85123A   WHITE HANGING HEART T-LIGHT HOLDER         6   \n",
       "1    536365     71053                  WHITE METAL LANTERN         6   \n",
       "2    536365    84406B       CREAM CUPID HEARTS COAT HANGER         8   \n",
       "3    536365    84029G  KNITTED UNION FLAG HOT WATER BOTTLE         6   \n",
       "4    536365    84029E       RED WOOLLY HOTTIE WHITE HEART.         6   \n",
       "\n",
       "    InvoiceDate  UnitPrice  CustomerID         Country  \n",
       "0  12/1/10 8:26       2.55     17850.0  United Kingdom  \n",
       "1  12/1/10 8:26       3.39     17850.0  United Kingdom  \n",
       "2  12/1/10 8:26       2.75     17850.0  United Kingdom  \n",
       "3  12/1/10 8:26       3.39     17850.0  United Kingdom  \n",
       "4  12/1/10 8:26       3.39     17850.0  United Kingdom  "
      ]
     },
     "execution_count": 42,
     "metadata": {},
     "output_type": "execute_result"
    }
   ],
   "source": [
    "online_rt.head()"
   ]
  },
  {
   "cell_type": "markdown",
   "metadata": {},
   "source": [
    "### Step 4. Create a histogram with the 10 countries that have the most 'Quantity' ordered except UK"
   ]
  },
  {
   "cell_type": "code",
   "execution_count": 4,
   "metadata": {},
   "outputs": [
    {
     "data": {
      "text/plain": [
       "<matplotlib.axes._subplots.AxesSubplot at 0x7faf292acdd0>"
      ]
     },
     "execution_count": 4,
     "metadata": {},
     "output_type": "execute_result"
    },
    {
     "data": {
      "image/png": "[encoded data removed]",
      "text/plain": [
       "<Figure size 432x288 with 1 Axes>"
      ]
     },
     "metadata": {
      "needs_background": "light"
     },
     "output_type": "display_data"
    }
   ],
   "source": [
    "most_qua = online_rt.groupby('Country').sum().drop('United Kingdom')\n",
    "most_qua = most_qua.sort_values(by='Quantity', ascending=False)['Quantity']\n",
    "most_qua.head(10).plot(kind='bar')"
   ]
  },
  {
   "cell_type": "markdown",
   "metadata": {},
   "source": [
    "### Step 5.  Exclude negative Quantity entries"
   ]
  },
  {
   "cell_type": "code",
   "execution_count": 5,
   "metadata": {},
   "outputs": [],
   "source": [
    "online_rt = online_rt[online_rt['Quantity'] > 0]"
   ]
  },
  {
   "cell_type": "markdown",
   "metadata": {},
   "source": [
    "### Step 6. Create a scatterplot with the Quantity per UnitPrice by CustomerID for the top 3 Countries (except UK)"
   ]
  },
  {
   "cell_type": "code",
   "execution_count": 6,
   "metadata": {},
   "outputs": [],
   "source": [
    "cust = online_rt.groupby(['CustomerID', 'Country']).sum()"
   ]
  },
  {
   "cell_type": "code",
   "execution_count": 7,
   "metadata": {},
   "outputs": [],
   "source": [
    "cust = cust[cust['UnitPrice'] > 0]"
   ]
  },
  {
   "cell_type": "code",
   "execution_count": 8,
   "metadata": {
    "scrolled": true
   },
   "outputs": [
    {
     "data": {
      "text/html": [
       "<div>\n",
       "<style scoped>\n",
       "    .dataframe tbody tr th:only-of-type {\n",
       "        vertical-align: middle;\n",
       "    }\n",
       "\n",
       "    .dataframe tbody tr th {\n",
       "        vertical-align: top;\n",
       "    }\n",
       "\n",
       "    .dataframe thead th {\n",
       "        text-align: right;\n",
       "    }\n",
       "</style>\n",
       "<table border=\"1\" class=\"dataframe\">\n",
       "  <thead>\n",
       "    <tr style=\"text-align: right;\">\n",
       "      <th></th>\n",
       "      <th></th>\n",
       "      <th>Quantity</th>\n",
       "      <th>UnitPrice</th>\n",
       "    </tr>\n",
       "    <tr>\n",
       "      <th>CustomerID</th>\n",
       "      <th>Country</th>\n",
       "      <th></th>\n",
       "      <th></th>\n",
       "    </tr>\n",
       "  </thead>\n",
       "  <tbody>\n",
       "    <tr>\n",
       "      <th>12346.0</th>\n",
       "      <th>United Kingdom</th>\n",
       "      <td>74215</td>\n",
       "      <td>1.04</td>\n",
       "    </tr>\n",
       "    <tr>\n",
       "      <th>12347.0</th>\n",
       "      <th>Iceland</th>\n",
       "      <td>2458</td>\n",
       "      <td>481.21</td>\n",
       "    </tr>\n",
       "    <tr>\n",
       "      <th>12348.0</th>\n",
       "      <th>Finland</th>\n",
       "      <td>2341</td>\n",
       "      <td>178.71</td>\n",
       "    </tr>\n",
       "    <tr>\n",
       "      <th>12349.0</th>\n",
       "      <th>Italy</th>\n",
       "      <td>631</td>\n",
       "      <td>605.10</td>\n",
       "    </tr>\n",
       "    <tr>\n",
       "      <th>12350.0</th>\n",
       "      <th>Norway</th>\n",
       "      <td>197</td>\n",
       "      <td>65.30</td>\n",
       "    </tr>\n",
       "    <tr>\n",
       "      <th>...</th>\n",
       "      <th>...</th>\n",
       "      <td>...</td>\n",
       "      <td>...</td>\n",
       "    </tr>\n",
       "    <tr>\n",
       "      <th>18280.0</th>\n",
       "      <th>United Kingdom</th>\n",
       "      <td>45</td>\n",
       "      <td>47.65</td>\n",
       "    </tr>\n",
       "    <tr>\n",
       "      <th>18281.0</th>\n",
       "      <th>United Kingdom</th>\n",
       "      <td>54</td>\n",
       "      <td>39.36</td>\n",
       "    </tr>\n",
       "    <tr>\n",
       "      <th>18282.0</th>\n",
       "      <th>United Kingdom</th>\n",
       "      <td>103</td>\n",
       "      <td>62.39</td>\n",
       "    </tr>\n",
       "    <tr>\n",
       "      <th>18283.0</th>\n",
       "      <th>United Kingdom</th>\n",
       "      <td>1397</td>\n",
       "      <td>1220.93</td>\n",
       "    </tr>\n",
       "    <tr>\n",
       "      <th>18287.0</th>\n",
       "      <th>United Kingdom</th>\n",
       "      <td>1586</td>\n",
       "      <td>104.55</td>\n",
       "    </tr>\n",
       "  </tbody>\n",
       "</table>\n",
       "<p>4346 rows × 2 columns</p>\n",
       "</div>"
      ],
      "text/plain": [
       "                           Quantity  UnitPrice\n",
       "CustomerID Country                            \n",
       "12346.0    United Kingdom     74215       1.04\n",
       "12347.0    Iceland             2458     481.21\n",
       "12348.0    Finland             2341     178.71\n",
       "12349.0    Italy                631     605.10\n",
       "12350.0    Norway               197      65.30\n",
       "...                             ...        ...\n",
       "18280.0    United Kingdom        45      47.65\n",
       "18281.0    United Kingdom        54      39.36\n",
       "18282.0    United Kingdom       103      62.39\n",
       "18283.0    United Kingdom      1397    1220.93\n",
       "18287.0    United Kingdom      1586     104.55\n",
       "\n",
       "[4346 rows x 2 columns]"
      ]
     },
     "execution_count": 8,
     "metadata": {},
     "output_type": "execute_result"
    }
   ],
   "source": [
    "cust"
   ]
  },
  {
   "cell_type": "code",
   "execution_count": 9,
   "metadata": {},
   "outputs": [],
   "source": [
    "cust['Country'] = cust.index.get_level_values(1)"
   ]
  },
  {
   "cell_type": "code",
   "execution_count": 10,
   "metadata": {},
   "outputs": [],
   "source": [
    "cust = cust[cust['Country'].isin(['Netherlands', 'EIRE', 'Germany'])]"
   ]
  },
  {
   "cell_type": "code",
   "execution_count": 11,
   "metadata": {},
   "outputs": [
    {
     "data": {
      "image/png": "[encoded data removed]",
      "text/plain": [
       "<Figure size 648x216 with 3 Axes>"
      ]
     },
     "metadata": {
      "needs_background": "light"
     },
     "output_type": "display_data"
    }
   ],
   "source": [
    "g = sns.FacetGrid(cust, col='Country')\n",
    "g.map(plt.scatter, 'Quantity', 'UnitPrice')\n",
    "plt.show()"
   ]
  },
  {
   "cell_type": "markdown",
   "metadata": {},
   "source": [
    "### Step 7. Investigate why the previous results look so uninformative.\n",
    "\n",
    "This section might seem a bit tedious to go through. But I've thought of it as some kind of a simulation of problems one might encounter when dealing with data and other people. Besides there is a prize at the end (i.e. Section 8).\n",
    "\n",
    "(But feel free to jump right ahead into Section 8 if you want; it doesn't require that you finish this section.)\n",
    "\n",
    "#### Step 7.1 Look at the first line of code in Step 6. And try to figure out if it leads to any kind of problem.\n",
    "##### Step 7.1.1 Display the first few rows of that DataFrame."
   ]
  },
  {
   "cell_type": "code",
   "execution_count": 12,
   "metadata": {},
   "outputs": [
    {
     "data": {
      "text/html": [
       "<div>\n",
       "<style scoped>\n",
       "    .dataframe tbody tr th:only-of-type {\n",
       "        vertical-align: middle;\n",
       "    }\n",
       "\n",
       "    .dataframe tbody tr th {\n",
       "        vertical-align: top;\n",
       "    }\n",
       "\n",
       "    .dataframe thead th {\n",
       "        text-align: right;\n",
       "    }\n",
       "</style>\n",
       "<table border=\"1\" class=\"dataframe\">\n",
       "  <thead>\n",
       "    <tr style=\"text-align: right;\">\n",
       "      <th></th>\n",
       "      <th></th>\n",
       "      <th>Quantity</th>\n",
       "      <th>UnitPrice</th>\n",
       "    </tr>\n",
       "    <tr>\n",
       "      <th>CustomerID</th>\n",
       "      <th>Country</th>\n",
       "      <th></th>\n",
       "      <th></th>\n",
       "    </tr>\n",
       "  </thead>\n",
       "  <tbody>\n",
       "    <tr>\n",
       "      <th>12346.0</th>\n",
       "      <th>United Kingdom</th>\n",
       "      <td>74215</td>\n",
       "      <td>1.04</td>\n",
       "    </tr>\n",
       "    <tr>\n",
       "      <th>12347.0</th>\n",
       "      <th>Iceland</th>\n",
       "      <td>2458</td>\n",
       "      <td>481.21</td>\n",
       "    </tr>\n",
       "    <tr>\n",
       "      <th>12348.0</th>\n",
       "      <th>Finland</th>\n",
       "      <td>2341</td>\n",
       "      <td>178.71</td>\n",
       "    </tr>\n",
       "    <tr>\n",
       "      <th>12349.0</th>\n",
       "      <th>Italy</th>\n",
       "      <td>631</td>\n",
       "      <td>605.10</td>\n",
       "    </tr>\n",
       "    <tr>\n",
       "      <th>12350.0</th>\n",
       "      <th>Norway</th>\n",
       "      <td>197</td>\n",
       "      <td>65.30</td>\n",
       "    </tr>\n",
       "  </tbody>\n",
       "</table>\n",
       "</div>"
      ],
      "text/plain": [
       "                           Quantity  UnitPrice\n",
       "CustomerID Country                            \n",
       "12346.0    United Kingdom     74215       1.04\n",
       "12347.0    Iceland             2458     481.21\n",
       "12348.0    Finland             2341     178.71\n",
       "12349.0    Italy                631     605.10\n",
       "12350.0    Norway               197      65.30"
      ]
     },
     "execution_count": 12,
     "metadata": {},
     "output_type": "execute_result"
    }
   ],
   "source": [
    "customers = online_rt.groupby(['CustomerID', 'Country']).sum()\n",
    "customers.head()"
   ]
  },
  {
   "cell_type": "markdown",
   "metadata": {},
   "source": [
    "##### Step 7.1.2 Think about what that piece of code does and display the dtype of `UnitPrice`"
   ]
  },
  {
   "cell_type": "code",
   "execution_count": 14,
   "metadata": {},
   "outputs": [
    {
     "data": {
      "text/plain": [
       "dtype('float64')"
      ]
     },
     "execution_count": 14,
     "metadata": {},
     "output_type": "execute_result"
    }
   ],
   "source": [
    "customers['UnitPrice'].dtype"
   ]
  },
  {
   "cell_type": "markdown",
   "metadata": {},
   "source": [
    "##### Step 7.1.3 Pull data from `online_rt`for `CustomerID`s 12346.0 and 12347.0."
   ]
  },
  {
   "cell_type": "code",
   "execution_count": 15,
   "metadata": {},
   "outputs": [
    {
     "data": {
      "text/html": [
       "<div>\n",
       "<style scoped>\n",
       "    .dataframe tbody tr th:only-of-type {\n",
       "        vertical-align: middle;\n",
       "    }\n",
       "\n",
       "    .dataframe tbody tr th {\n",
       "        vertical-align: top;\n",
       "    }\n",
       "\n",
       "    .dataframe thead th {\n",
       "        text-align: right;\n",
       "    }\n",
       "</style>\n",
       "<table border=\"1\" class=\"dataframe\">\n",
       "  <thead>\n",
       "    <tr style=\"text-align: right;\">\n",
       "      <th></th>\n",
       "      <th>InvoiceNo</th>\n",
       "      <th>StockCode</th>\n",
       "      <th>Description</th>\n",
       "      <th>Quantity</th>\n",
       "      <th>InvoiceDate</th>\n",
       "      <th>UnitPrice</th>\n",
       "      <th>CustomerID</th>\n",
       "      <th>Country</th>\n",
       "    </tr>\n",
       "  </thead>\n",
       "  <tbody>\n",
       "    <tr>\n",
       "      <th>14938</th>\n",
       "      <td>537626</td>\n",
       "      <td>85116</td>\n",
       "      <td>BLACK CANDELABRA T-LIGHT HOLDER</td>\n",
       "      <td>12</td>\n",
       "      <td>12/7/10 14:57</td>\n",
       "      <td>2.10</td>\n",
       "      <td>12347.0</td>\n",
       "      <td>Iceland</td>\n",
       "    </tr>\n",
       "    <tr>\n",
       "      <th>14939</th>\n",
       "      <td>537626</td>\n",
       "      <td>22375</td>\n",
       "      <td>AIRLINE BAG VINTAGE JET SET BROWN</td>\n",
       "      <td>4</td>\n",
       "      <td>12/7/10 14:57</td>\n",
       "      <td>4.25</td>\n",
       "      <td>12347.0</td>\n",
       "      <td>Iceland</td>\n",
       "    </tr>\n",
       "    <tr>\n",
       "      <th>14940</th>\n",
       "      <td>537626</td>\n",
       "      <td>71477</td>\n",
       "      <td>COLOUR GLASS. STAR T-LIGHT HOLDER</td>\n",
       "      <td>12</td>\n",
       "      <td>12/7/10 14:57</td>\n",
       "      <td>3.25</td>\n",
       "      <td>12347.0</td>\n",
       "      <td>Iceland</td>\n",
       "    </tr>\n",
       "    <tr>\n",
       "      <th>14941</th>\n",
       "      <td>537626</td>\n",
       "      <td>22492</td>\n",
       "      <td>MINI PAINT SET VINTAGE</td>\n",
       "      <td>36</td>\n",
       "      <td>12/7/10 14:57</td>\n",
       "      <td>0.65</td>\n",
       "      <td>12347.0</td>\n",
       "      <td>Iceland</td>\n",
       "    </tr>\n",
       "    <tr>\n",
       "      <th>14942</th>\n",
       "      <td>537626</td>\n",
       "      <td>22771</td>\n",
       "      <td>CLEAR DRAWER KNOB ACRYLIC EDWARDIAN</td>\n",
       "      <td>12</td>\n",
       "      <td>12/7/10 14:57</td>\n",
       "      <td>1.25</td>\n",
       "      <td>12347.0</td>\n",
       "      <td>Iceland</td>\n",
       "    </tr>\n",
       "    <tr>\n",
       "      <th>...</th>\n",
       "      <td>...</td>\n",
       "      <td>...</td>\n",
       "      <td>...</td>\n",
       "      <td>...</td>\n",
       "      <td>...</td>\n",
       "      <td>...</td>\n",
       "      <td>...</td>\n",
       "      <td>...</td>\n",
       "    </tr>\n",
       "    <tr>\n",
       "      <th>535010</th>\n",
       "      <td>581180</td>\n",
       "      <td>20719</td>\n",
       "      <td>WOODLAND CHARLOTTE BAG</td>\n",
       "      <td>10</td>\n",
       "      <td>12/7/11 15:52</td>\n",
       "      <td>0.85</td>\n",
       "      <td>12347.0</td>\n",
       "      <td>Iceland</td>\n",
       "    </tr>\n",
       "    <tr>\n",
       "      <th>535011</th>\n",
       "      <td>581180</td>\n",
       "      <td>21265</td>\n",
       "      <td>PINK GOOSE FEATHER TREE 60CM</td>\n",
       "      <td>12</td>\n",
       "      <td>12/7/11 15:52</td>\n",
       "      <td>1.95</td>\n",
       "      <td>12347.0</td>\n",
       "      <td>Iceland</td>\n",
       "    </tr>\n",
       "    <tr>\n",
       "      <th>535012</th>\n",
       "      <td>581180</td>\n",
       "      <td>23271</td>\n",
       "      <td>CHRISTMAS TABLE SILVER CANDLE SPIKE</td>\n",
       "      <td>16</td>\n",
       "      <td>12/7/11 15:52</td>\n",
       "      <td>0.83</td>\n",
       "      <td>12347.0</td>\n",
       "      <td>Iceland</td>\n",
       "    </tr>\n",
       "    <tr>\n",
       "      <th>535013</th>\n",
       "      <td>581180</td>\n",
       "      <td>23506</td>\n",
       "      <td>MINI PLAYING CARDS SPACEBOY</td>\n",
       "      <td>20</td>\n",
       "      <td>12/7/11 15:52</td>\n",
       "      <td>0.42</td>\n",
       "      <td>12347.0</td>\n",
       "      <td>Iceland</td>\n",
       "    </tr>\n",
       "    <tr>\n",
       "      <th>535014</th>\n",
       "      <td>581180</td>\n",
       "      <td>23508</td>\n",
       "      <td>MINI PLAYING CARDS DOLLY GIRL</td>\n",
       "      <td>20</td>\n",
       "      <td>12/7/11 15:52</td>\n",
       "      <td>0.42</td>\n",
       "      <td>12347.0</td>\n",
       "      <td>Iceland</td>\n",
       "    </tr>\n",
       "  </tbody>\n",
       "</table>\n",
       "<p>183 rows × 8 columns</p>\n",
       "</div>"
      ],
      "text/plain": [
       "       InvoiceNo StockCode                          Description  Quantity  \\\n",
       "14938     537626     85116      BLACK CANDELABRA T-LIGHT HOLDER        12   \n",
       "14939     537626     22375    AIRLINE BAG VINTAGE JET SET BROWN         4   \n",
       "14940     537626     71477    COLOUR GLASS. STAR T-LIGHT HOLDER        12   \n",
       "14941     537626     22492              MINI PAINT SET VINTAGE         36   \n",
       "14942     537626     22771  CLEAR DRAWER KNOB ACRYLIC EDWARDIAN        12   \n",
       "...          ...       ...                                  ...       ...   \n",
       "535010    581180     20719               WOODLAND CHARLOTTE BAG        10   \n",
       "535011    581180     21265         PINK GOOSE FEATHER TREE 60CM        12   \n",
       "535012    581180     23271  CHRISTMAS TABLE SILVER CANDLE SPIKE        16   \n",
       "535013    581180     23506         MINI PLAYING CARDS SPACEBOY         20   \n",
       "535014    581180     23508       MINI PLAYING CARDS DOLLY GIRL         20   \n",
       "\n",
       "          InvoiceDate  UnitPrice  CustomerID  Country  \n",
       "14938   12/7/10 14:57       2.10     12347.0  Iceland  \n",
       "14939   12/7/10 14:57       4.25     12347.0  Iceland  \n",
       "14940   12/7/10 14:57       3.25     12347.0  Iceland  \n",
       "14941   12/7/10 14:57       0.65     12347.0  Iceland  \n",
       "14942   12/7/10 14:57       1.25     12347.0  Iceland  \n",
       "...               ...        ...         ...      ...  \n",
       "535010  12/7/11 15:52       0.85     12347.0  Iceland  \n",
       "535011  12/7/11 15:52       1.95     12347.0  Iceland  \n",
       "535012  12/7/11 15:52       0.83     12347.0  Iceland  \n",
       "535013  12/7/11 15:52       0.42     12347.0  Iceland  \n",
       "535014  12/7/11 15:52       0.42     12347.0  Iceland  \n",
       "\n",
       "[183 rows x 8 columns]"
      ]
     },
     "execution_count": 15,
     "metadata": {},
     "output_type": "execute_result"
    }
   ],
   "source": [
    "online_rt[online_rt['CustomerID'].isin([12346.0, 12347.0])]"
   ]
  },
  {
   "cell_type": "code",
   "execution_count": 17,
   "metadata": {},
   "outputs": [
    {
     "data": {
      "text/html": [
       "<div>\n",
       "<style scoped>\n",
       "    .dataframe tbody tr th:only-of-type {\n",
       "        vertical-align: middle;\n",
       "    }\n",
       "\n",
       "    .dataframe tbody tr th {\n",
       "        vertical-align: top;\n",
       "    }\n",
       "\n",
       "    .dataframe thead th {\n",
       "        text-align: right;\n",
       "    }\n",
       "</style>\n",
       "<table border=\"1\" class=\"dataframe\">\n",
       "  <thead>\n",
       "    <tr style=\"text-align: right;\">\n",
       "      <th></th>\n",
       "      <th>InvoiceNo</th>\n",
       "      <th>StockCode</th>\n",
       "      <th>Description</th>\n",
       "      <th>Quantity</th>\n",
       "      <th>InvoiceDate</th>\n",
       "      <th>UnitPrice</th>\n",
       "      <th>CustomerID</th>\n",
       "      <th>Country</th>\n",
       "    </tr>\n",
       "  </thead>\n",
       "  <tbody>\n",
       "    <tr>\n",
       "      <th>428966</th>\n",
       "      <td>573511</td>\n",
       "      <td>22423</td>\n",
       "      <td>REGENCY CAKESTAND 3 TIER</td>\n",
       "      <td>6</td>\n",
       "      <td>10/31/11 12:25</td>\n",
       "      <td>12.75</td>\n",
       "      <td>12347.0</td>\n",
       "      <td>Iceland</td>\n",
       "    </tr>\n",
       "    <tr>\n",
       "      <th>286637</th>\n",
       "      <td>562032</td>\n",
       "      <td>22423</td>\n",
       "      <td>REGENCY CAKESTAND 3 TIER</td>\n",
       "      <td>3</td>\n",
       "      <td>8/2/11 8:48</td>\n",
       "      <td>12.75</td>\n",
       "      <td>12347.0</td>\n",
       "      <td>Iceland</td>\n",
       "    </tr>\n",
       "    <tr>\n",
       "      <th>72267</th>\n",
       "      <td>542237</td>\n",
       "      <td>22423</td>\n",
       "      <td>REGENCY CAKESTAND 3 TIER</td>\n",
       "      <td>3</td>\n",
       "      <td>1/26/11 14:30</td>\n",
       "      <td>12.75</td>\n",
       "      <td>12347.0</td>\n",
       "      <td>Iceland</td>\n",
       "    </tr>\n",
       "    <tr>\n",
       "      <th>148300</th>\n",
       "      <td>549222</td>\n",
       "      <td>22423</td>\n",
       "      <td>REGENCY CAKESTAND 3 TIER</td>\n",
       "      <td>3</td>\n",
       "      <td>4/7/11 10:43</td>\n",
       "      <td>12.75</td>\n",
       "      <td>12347.0</td>\n",
       "      <td>Iceland</td>\n",
       "    </tr>\n",
       "    <tr>\n",
       "      <th>428967</th>\n",
       "      <td>573511</td>\n",
       "      <td>23173</td>\n",
       "      <td>REGENCY TEAPOT ROSES</td>\n",
       "      <td>2</td>\n",
       "      <td>10/31/11 12:25</td>\n",
       "      <td>9.95</td>\n",
       "      <td>12347.0</td>\n",
       "      <td>Iceland</td>\n",
       "    </tr>\n",
       "    <tr>\n",
       "      <th>...</th>\n",
       "      <td>...</td>\n",
       "      <td>...</td>\n",
       "      <td>...</td>\n",
       "      <td>...</td>\n",
       "      <td>...</td>\n",
       "      <td>...</td>\n",
       "      <td>...</td>\n",
       "      <td>...</td>\n",
       "    </tr>\n",
       "    <tr>\n",
       "      <th>428979</th>\n",
       "      <td>573511</td>\n",
       "      <td>23506</td>\n",
       "      <td>MINI PLAYING CARDS SPACEBOY</td>\n",
       "      <td>20</td>\n",
       "      <td>10/31/11 12:25</td>\n",
       "      <td>0.42</td>\n",
       "      <td>12347.0</td>\n",
       "      <td>Iceland</td>\n",
       "    </tr>\n",
       "    <tr>\n",
       "      <th>535013</th>\n",
       "      <td>581180</td>\n",
       "      <td>23506</td>\n",
       "      <td>MINI PLAYING CARDS SPACEBOY</td>\n",
       "      <td>20</td>\n",
       "      <td>12/7/11 15:52</td>\n",
       "      <td>0.42</td>\n",
       "      <td>12347.0</td>\n",
       "      <td>Iceland</td>\n",
       "    </tr>\n",
       "    <tr>\n",
       "      <th>535014</th>\n",
       "      <td>581180</td>\n",
       "      <td>23508</td>\n",
       "      <td>MINI PLAYING CARDS DOLLY GIRL</td>\n",
       "      <td>20</td>\n",
       "      <td>12/7/11 15:52</td>\n",
       "      <td>0.42</td>\n",
       "      <td>12347.0</td>\n",
       "      <td>Iceland</td>\n",
       "    </tr>\n",
       "    <tr>\n",
       "      <th>220583</th>\n",
       "      <td>556201</td>\n",
       "      <td>17021</td>\n",
       "      <td>NAMASTE SWAGAT INCENSE</td>\n",
       "      <td>36</td>\n",
       "      <td>6/9/11 13:01</td>\n",
       "      <td>0.30</td>\n",
       "      <td>12347.0</td>\n",
       "      <td>Iceland</td>\n",
       "    </tr>\n",
       "    <tr>\n",
       "      <th>148306</th>\n",
       "      <td>549222</td>\n",
       "      <td>16008</td>\n",
       "      <td>SMALL FOLDING SCISSOR(POINTED EDGE)</td>\n",
       "      <td>24</td>\n",
       "      <td>4/7/11 10:43</td>\n",
       "      <td>0.25</td>\n",
       "      <td>12347.0</td>\n",
       "      <td>Iceland</td>\n",
       "    </tr>\n",
       "  </tbody>\n",
       "</table>\n",
       "<p>182 rows × 8 columns</p>\n",
       "</div>"
      ],
      "text/plain": [
       "       InvoiceNo StockCode                          Description  Quantity  \\\n",
       "428966    573511     22423             REGENCY CAKESTAND 3 TIER         6   \n",
       "286637    562032     22423             REGENCY CAKESTAND 3 TIER         3   \n",
       "72267     542237     22423             REGENCY CAKESTAND 3 TIER         3   \n",
       "148300    549222     22423             REGENCY CAKESTAND 3 TIER         3   \n",
       "428967    573511     23173                REGENCY TEAPOT ROSES          2   \n",
       "...          ...       ...                                  ...       ...   \n",
       "428979    573511     23506         MINI PLAYING CARDS SPACEBOY         20   \n",
       "535013    581180     23506         MINI PLAYING CARDS SPACEBOY         20   \n",
       "535014    581180     23508       MINI PLAYING CARDS DOLLY GIRL         20   \n",
       "220583    556201     17021               NAMASTE SWAGAT INCENSE        36   \n",
       "148306    549222     16008  SMALL FOLDING SCISSOR(POINTED EDGE)        24   \n",
       "\n",
       "           InvoiceDate  UnitPrice  CustomerID  Country  \n",
       "428966  10/31/11 12:25      12.75     12347.0  Iceland  \n",
       "286637     8/2/11 8:48      12.75     12347.0  Iceland  \n",
       "72267    1/26/11 14:30      12.75     12347.0  Iceland  \n",
       "148300    4/7/11 10:43      12.75     12347.0  Iceland  \n",
       "428967  10/31/11 12:25       9.95     12347.0  Iceland  \n",
       "...                ...        ...         ...      ...  \n",
       "428979  10/31/11 12:25       0.42     12347.0  Iceland  \n",
       "535013   12/7/11 15:52       0.42     12347.0  Iceland  \n",
       "535014   12/7/11 15:52       0.42     12347.0  Iceland  \n",
       "220583    6/9/11 13:01       0.30     12347.0  Iceland  \n",
       "148306    4/7/11 10:43       0.25     12347.0  Iceland  \n",
       "\n",
       "[182 rows x 8 columns]"
      ]
     },
     "metadata": {},
     "output_type": "display_data"
    },
    {
     "data": {
      "text/html": [
       "<div>\n",
       "<style scoped>\n",
       "    .dataframe tbody tr th:only-of-type {\n",
       "        vertical-align: middle;\n",
       "    }\n",
       "\n",
       "    .dataframe tbody tr th {\n",
       "        vertical-align: top;\n",
       "    }\n",
       "\n",
       "    .dataframe thead th {\n",
       "        text-align: right;\n",
       "    }\n",
       "</style>\n",
       "<table border=\"1\" class=\"dataframe\">\n",
       "  <thead>\n",
       "    <tr style=\"text-align: right;\">\n",
       "      <th></th>\n",
       "      <th>InvoiceNo</th>\n",
       "      <th>StockCode</th>\n",
       "      <th>Description</th>\n",
       "      <th>Quantity</th>\n",
       "      <th>InvoiceDate</th>\n",
       "      <th>UnitPrice</th>\n",
       "      <th>CustomerID</th>\n",
       "      <th>Country</th>\n",
       "    </tr>\n",
       "  </thead>\n",
       "  <tbody>\n",
       "    <tr>\n",
       "      <th>61619</th>\n",
       "      <td>541431</td>\n",
       "      <td>23166</td>\n",
       "      <td>MEDIUM CERAMIC TOP STORAGE JAR</td>\n",
       "      <td>74215</td>\n",
       "      <td>1/18/11 10:01</td>\n",
       "      <td>1.04</td>\n",
       "      <td>12346.0</td>\n",
       "      <td>United Kingdom</td>\n",
       "    </tr>\n",
       "  </tbody>\n",
       "</table>\n",
       "</div>"
      ],
      "text/plain": [
       "      InvoiceNo StockCode                     Description  Quantity  \\\n",
       "61619    541431     23166  MEDIUM CERAMIC TOP STORAGE JAR     74215   \n",
       "\n",
       "         InvoiceDate  UnitPrice  CustomerID         Country  \n",
       "61619  1/18/11 10:01       1.04     12346.0  United Kingdom  "
      ]
     },
     "metadata": {},
     "output_type": "display_data"
    }
   ],
   "source": [
    "display(online_rt[online_rt.CustomerID == 12347.0].\n",
    "        sort_values(by='UnitPrice', ascending = False))\n",
    "display(online_rt[online_rt.CustomerID == 12346.0].\n",
    "        sort_values(by='UnitPrice', ascending = False).head())"
   ]
  },
  {
   "cell_type": "markdown",
   "metadata": {},
   "source": [
    "#### Step 7.2 Reinterpreting the initial problem.\n",
    "\n",
    "To reiterate the question that we were dealing with:  \n",
    "\"Create a scatterplot with the Quantity per UnitPrice by CustomerID for the top 3 Countries\"\n",
    "\n",
    "The question is open to a set of different interpretations.\n",
    "We need to disambiguate.\n",
    "\n",
    "We could do a single plot by looking at all the data from the top 3 countries.\n",
    "Or we could do one plot per country. To keep things consistent with the rest of the exercise,\n",
    "let's stick to the latter oprion. So that's settled.\n",
    "\n",
    "But \"top 3 countries\" with respect to what? Two answers suggest themselves:\n",
    "Total sales volume (i.e. total quantity sold) or total sales (i.e. revenue).\n",
    "This exercise goes for sales volume, so let's stick to that.\n",
    "\n",
    "##### Step 7.2.1 Find out the top 3 countries in terms of sales volume."
   ]
  },
  {
   "cell_type": "code",
   "execution_count": 36,
   "metadata": {},
   "outputs": [
    {
     "data": {
      "text/html": [
       "<div>\n",
       "<style scoped>\n",
       "    .dataframe tbody tr th:only-of-type {\n",
       "        vertical-align: middle;\n",
       "    }\n",
       "\n",
       "    .dataframe tbody tr th {\n",
       "        vertical-align: top;\n",
       "    }\n",
       "\n",
       "    .dataframe thead th {\n",
       "        text-align: right;\n",
       "    }\n",
       "</style>\n",
       "<table border=\"1\" class=\"dataframe\">\n",
       "  <thead>\n",
       "    <tr style=\"text-align: right;\">\n",
       "      <th></th>\n",
       "      <th>InvoiceNo</th>\n",
       "      <th>StockCode</th>\n",
       "      <th>Description</th>\n",
       "      <th>Quantity</th>\n",
       "      <th>InvoiceDate</th>\n",
       "      <th>UnitPrice</th>\n",
       "      <th>CustomerID</th>\n",
       "      <th>Country</th>\n",
       "    </tr>\n",
       "  </thead>\n",
       "  <tbody>\n",
       "    <tr>\n",
       "      <th>0</th>\n",
       "      <td>536365</td>\n",
       "      <td>85123A</td>\n",
       "      <td>WHITE HANGING HEART T-LIGHT HOLDER</td>\n",
       "      <td>6</td>\n",
       "      <td>12/1/10 8:26</td>\n",
       "      <td>2.55</td>\n",
       "      <td>17850.0</td>\n",
       "      <td>United Kingdom</td>\n",
       "    </tr>\n",
       "    <tr>\n",
       "      <th>1</th>\n",
       "      <td>536365</td>\n",
       "      <td>71053</td>\n",
       "      <td>WHITE METAL LANTERN</td>\n",
       "      <td>6</td>\n",
       "      <td>12/1/10 8:26</td>\n",
       "      <td>3.39</td>\n",
       "      <td>17850.0</td>\n",
       "      <td>United Kingdom</td>\n",
       "    </tr>\n",
       "    <tr>\n",
       "      <th>2</th>\n",
       "      <td>536365</td>\n",
       "      <td>84406B</td>\n",
       "      <td>CREAM CUPID HEARTS COAT HANGER</td>\n",
       "      <td>8</td>\n",
       "      <td>12/1/10 8:26</td>\n",
       "      <td>2.75</td>\n",
       "      <td>17850.0</td>\n",
       "      <td>United Kingdom</td>\n",
       "    </tr>\n",
       "    <tr>\n",
       "      <th>3</th>\n",
       "      <td>536365</td>\n",
       "      <td>84029G</td>\n",
       "      <td>KNITTED UNION FLAG HOT WATER BOTTLE</td>\n",
       "      <td>6</td>\n",
       "      <td>12/1/10 8:26</td>\n",
       "      <td>3.39</td>\n",
       "      <td>17850.0</td>\n",
       "      <td>United Kingdom</td>\n",
       "    </tr>\n",
       "    <tr>\n",
       "      <th>4</th>\n",
       "      <td>536365</td>\n",
       "      <td>84029E</td>\n",
       "      <td>RED WOOLLY HOTTIE WHITE HEART.</td>\n",
       "      <td>6</td>\n",
       "      <td>12/1/10 8:26</td>\n",
       "      <td>3.39</td>\n",
       "      <td>17850.0</td>\n",
       "      <td>United Kingdom</td>\n",
       "    </tr>\n",
       "  </tbody>\n",
       "</table>\n",
       "</div>"
      ],
      "text/plain": [
       "  InvoiceNo StockCode                          Description  Quantity  \\\n",
       "0    536365    85123A   WHITE HANGING HEART T-LIGHT HOLDER         6   \n",
       "1    536365     71053                  WHITE METAL LANTERN         6   \n",
       "2    536365    84406B       CREAM CUPID HEARTS COAT HANGER         8   \n",
       "3    536365    84029G  KNITTED UNION FLAG HOT WATER BOTTLE         6   \n",
       "4    536365    84029E       RED WOOLLY HOTTIE WHITE HEART.         6   \n",
       "\n",
       "    InvoiceDate  UnitPrice  CustomerID         Country  \n",
       "0  12/1/10 8:26       2.55     17850.0  United Kingdom  \n",
       "1  12/1/10 8:26       3.39     17850.0  United Kingdom  \n",
       "2  12/1/10 8:26       2.75     17850.0  United Kingdom  \n",
       "3  12/1/10 8:26       3.39     17850.0  United Kingdom  \n",
       "4  12/1/10 8:26       3.39     17850.0  United Kingdom  "
      ]
     },
     "execution_count": 36,
     "metadata": {},
     "output_type": "execute_result"
    }
   ],
   "source": [
    "online_rt.head()"
   ]
  },
  {
   "cell_type": "code",
   "execution_count": 56,
   "metadata": {},
   "outputs": [],
   "source": [
    "volume = online_rt.groupby('Country').sum().sort_values(by='Quantity', ascending=False)['Quantity']"
   ]
  },
  {
   "cell_type": "code",
   "execution_count": 57,
   "metadata": {},
   "outputs": [
    {
     "data": {
      "text/plain": [
       "Index(['Netherlands', 'EIRE', 'Germany'], dtype='object', name='Country')"
      ]
     },
     "execution_count": 57,
     "metadata": {},
     "output_type": "execute_result"
    }
   ],
   "source": [
    "top3 = volume.index[1:4]\n",
    "top3"
   ]
  },
  {
   "cell_type": "markdown",
   "metadata": {},
   "source": [
    "##### Step 7.2.2 \n",
    "\n",
    "Now that we have the top 3 countries, we can focus on the rest of the problem:  \n",
    "\"Quantity per UnitPrice by CustomerID\".  \n",
    "We need to unpack that.\n",
    "\n",
    "\"by CustomerID\" part is easy. That means we're going to be plotting one dot per CustomerID's on our plot. In other words, we're going to be grouping by CustomerID.\n",
    "\n",
    "\"Quantity per UnitPrice\" is trickier. Here's what we know:  \n",
    "*One axis will represent a Quantity assigned to a given customer. This is easy; we can just plot the total  Quantity for each customer.  \n",
    "*The other axis will represent a UnitPrice assigned to a given customer. Remember a single customer can have any number of orders with different prices, so summing up prices isn't quite helpful. Besides it's not quite clear what we mean when we say \"unit price per customer\"; it sounds like price of the customer! A reasonable alternative is that we assign each customer the average amount each has paid per item. So let's settle that question in that manner.\n",
    "\n",
    "#### Step 7.3 Modify, select and plot data\n",
    "##### Step 7.3.1 Add a column to online_rt called `Revenue` calculate the revenue (Quantity * UnitPrice) from each sale.\n",
    "We will use this later to figure out an average price per customer."
   ]
  },
  {
   "cell_type": "code",
   "execution_count": 71,
   "metadata": {},
   "outputs": [
    {
     "data": {
      "text/html": [
       "<div>\n",
       "<style scoped>\n",
       "    .dataframe tbody tr th:only-of-type {\n",
       "        vertical-align: middle;\n",
       "    }\n",
       "\n",
       "    .dataframe tbody tr th {\n",
       "        vertical-align: top;\n",
       "    }\n",
       "\n",
       "    .dataframe thead th {\n",
       "        text-align: right;\n",
       "    }\n",
       "</style>\n",
       "<table border=\"1\" class=\"dataframe\">\n",
       "  <thead>\n",
       "    <tr style=\"text-align: right;\">\n",
       "      <th></th>\n",
       "      <th>InvoiceNo</th>\n",
       "      <th>StockCode</th>\n",
       "      <th>Description</th>\n",
       "      <th>Quantity</th>\n",
       "      <th>InvoiceDate</th>\n",
       "      <th>UnitPrice</th>\n",
       "      <th>CustomerID</th>\n",
       "      <th>Country</th>\n",
       "      <th>Revenue</th>\n",
       "    </tr>\n",
       "  </thead>\n",
       "  <tbody>\n",
       "    <tr>\n",
       "      <th>0</th>\n",
       "      <td>536365</td>\n",
       "      <td>85123A</td>\n",
       "      <td>WHITE HANGING HEART T-LIGHT HOLDER</td>\n",
       "      <td>6</td>\n",
       "      <td>12/1/10 8:26</td>\n",
       "      <td>2.55</td>\n",
       "      <td>17850.0</td>\n",
       "      <td>United Kingdom</td>\n",
       "      <td>15.30</td>\n",
       "    </tr>\n",
       "    <tr>\n",
       "      <th>1</th>\n",
       "      <td>536365</td>\n",
       "      <td>71053</td>\n",
       "      <td>WHITE METAL LANTERN</td>\n",
       "      <td>6</td>\n",
       "      <td>12/1/10 8:26</td>\n",
       "      <td>3.39</td>\n",
       "      <td>17850.0</td>\n",
       "      <td>United Kingdom</td>\n",
       "      <td>20.34</td>\n",
       "    </tr>\n",
       "    <tr>\n",
       "      <th>2</th>\n",
       "      <td>536365</td>\n",
       "      <td>84406B</td>\n",
       "      <td>CREAM CUPID HEARTS COAT HANGER</td>\n",
       "      <td>8</td>\n",
       "      <td>12/1/10 8:26</td>\n",
       "      <td>2.75</td>\n",
       "      <td>17850.0</td>\n",
       "      <td>United Kingdom</td>\n",
       "      <td>22.00</td>\n",
       "    </tr>\n",
       "    <tr>\n",
       "      <th>3</th>\n",
       "      <td>536365</td>\n",
       "      <td>84029G</td>\n",
       "      <td>KNITTED UNION FLAG HOT WATER BOTTLE</td>\n",
       "      <td>6</td>\n",
       "      <td>12/1/10 8:26</td>\n",
       "      <td>3.39</td>\n",
       "      <td>17850.0</td>\n",
       "      <td>United Kingdom</td>\n",
       "      <td>20.34</td>\n",
       "    </tr>\n",
       "    <tr>\n",
       "      <th>4</th>\n",
       "      <td>536365</td>\n",
       "      <td>84029E</td>\n",
       "      <td>RED WOOLLY HOTTIE WHITE HEART.</td>\n",
       "      <td>6</td>\n",
       "      <td>12/1/10 8:26</td>\n",
       "      <td>3.39</td>\n",
       "      <td>17850.0</td>\n",
       "      <td>United Kingdom</td>\n",
       "      <td>20.34</td>\n",
       "    </tr>\n",
       "  </tbody>\n",
       "</table>\n",
       "</div>"
      ],
      "text/plain": [
       "  InvoiceNo StockCode                          Description  Quantity  \\\n",
       "0    536365    85123A   WHITE HANGING HEART T-LIGHT HOLDER         6   \n",
       "1    536365     71053                  WHITE METAL LANTERN         6   \n",
       "2    536365    84406B       CREAM CUPID HEARTS COAT HANGER         8   \n",
       "3    536365    84029G  KNITTED UNION FLAG HOT WATER BOTTLE         6   \n",
       "4    536365    84029E       RED WOOLLY HOTTIE WHITE HEART.         6   \n",
       "\n",
       "    InvoiceDate  UnitPrice  CustomerID         Country  Revenue  \n",
       "0  12/1/10 8:26       2.55     17850.0  United Kingdom    15.30  \n",
       "1  12/1/10 8:26       3.39     17850.0  United Kingdom    20.34  \n",
       "2  12/1/10 8:26       2.75     17850.0  United Kingdom    22.00  \n",
       "3  12/1/10 8:26       3.39     17850.0  United Kingdom    20.34  \n",
       "4  12/1/10 8:26       3.39     17850.0  United Kingdom    20.34  "
      ]
     },
     "execution_count": 71,
     "metadata": {},
     "output_type": "execute_result"
    }
   ],
   "source": [
    "online_rt['Revenue'] = online_rt['Quantity']*online_rt['UnitPrice']\n",
    "online_rt.head()"
   ]
  },
  {
   "cell_type": "markdown",
   "metadata": {},
   "source": [
    "##### Step 7.3.2 Group by `CustomerID` and `Country` and find out the average price (`AvgPrice`) each customer spends per unit."
   ]
  },
  {
   "cell_type": "code",
   "execution_count": 86,
   "metadata": {},
   "outputs": [],
   "source": [
    "grouped = online_rt[online_rt['Country'].isin(top3)].groupby(['CustomerID', 'Country'])"
   ]
  },
  {
   "cell_type": "code",
   "execution_count": 91,
   "metadata": {},
   "outputs": [],
   "source": [
    "plottable = grouped[['Quantity', 'Revenue']].agg(['sum'])"
   ]
  },
  {
   "cell_type": "code",
   "execution_count": 92,
   "metadata": {},
   "outputs": [],
   "source": [
    "plottable['AvgPrice'] = plottable['Revenue'] / plottable['Quantity']"
   ]
  },
  {
   "cell_type": "code",
   "execution_count": 99,
   "metadata": {},
   "outputs": [
    {
     "data": {
      "text/html": [
       "<div>\n",
       "<style scoped>\n",
       "    .dataframe tbody tr th:only-of-type {\n",
       "        vertical-align: middle;\n",
       "    }\n",
       "\n",
       "    .dataframe tbody tr th {\n",
       "        vertical-align: top;\n",
       "    }\n",
       "\n",
       "    .dataframe thead tr th {\n",
       "        text-align: left;\n",
       "    }\n",
       "\n",
       "    .dataframe thead tr:last-of-type th {\n",
       "        text-align: right;\n",
       "    }\n",
       "</style>\n",
       "<table border=\"1\" class=\"dataframe\">\n",
       "  <thead>\n",
       "    <tr>\n",
       "      <th></th>\n",
       "      <th></th>\n",
       "      <th>Quantity</th>\n",
       "      <th>Revenue</th>\n",
       "      <th>AvgPrice</th>\n",
       "      <th>Country</th>\n",
       "    </tr>\n",
       "    <tr>\n",
       "      <th></th>\n",
       "      <th></th>\n",
       "      <th>sum</th>\n",
       "      <th>sum</th>\n",
       "      <th></th>\n",
       "      <th></th>\n",
       "    </tr>\n",
       "    <tr>\n",
       "      <th>CustomerID</th>\n",
       "      <th>Country</th>\n",
       "      <th></th>\n",
       "      <th></th>\n",
       "      <th></th>\n",
       "      <th></th>\n",
       "    </tr>\n",
       "  </thead>\n",
       "  <tbody>\n",
       "    <tr>\n",
       "      <th>12426.0</th>\n",
       "      <th>Germany</th>\n",
       "      <td>258</td>\n",
       "      <td>582.73</td>\n",
       "      <td>2.258643</td>\n",
       "      <td>Germany</td>\n",
       "    </tr>\n",
       "    <tr>\n",
       "      <th>12427.0</th>\n",
       "      <th>Germany</th>\n",
       "      <td>236</td>\n",
       "      <td>708.37</td>\n",
       "      <td>3.001568</td>\n",
       "      <td>Germany</td>\n",
       "    </tr>\n",
       "    <tr>\n",
       "      <th>12468.0</th>\n",
       "      <th>Germany</th>\n",
       "      <td>364</td>\n",
       "      <td>724.04</td>\n",
       "      <td>1.989121</td>\n",
       "      <td>Germany</td>\n",
       "    </tr>\n",
       "    <tr>\n",
       "      <th>12471.0</th>\n",
       "      <th>Germany</th>\n",
       "      <td>7965</td>\n",
       "      <td>18740.92</td>\n",
       "      <td>2.352909</td>\n",
       "      <td>Germany</td>\n",
       "    </tr>\n",
       "    <tr>\n",
       "      <th>12472.0</th>\n",
       "      <th>Germany</th>\n",
       "      <td>4020</td>\n",
       "      <td>6229.48</td>\n",
       "      <td>1.549622</td>\n",
       "      <td>Germany</td>\n",
       "    </tr>\n",
       "  </tbody>\n",
       "</table>\n",
       "</div>"
      ],
      "text/plain": [
       "                   Quantity   Revenue  AvgPrice  Country\n",
       "                        sum       sum                   \n",
       "CustomerID Country                                      \n",
       "12426.0    Germany      258    582.73  2.258643  Germany\n",
       "12427.0    Germany      236    708.37  3.001568  Germany\n",
       "12468.0    Germany      364    724.04  1.989121  Germany\n",
       "12471.0    Germany     7965  18740.92  2.352909  Germany\n",
       "12472.0    Germany     4020   6229.48  1.549622  Germany"
      ]
     },
     "execution_count": 99,
     "metadata": {},
     "output_type": "execute_result"
    }
   ],
   "source": [
    "plottable['Country'] = plottable.index.get_level_values(1)\n",
    "plottable.head()"
   ]
  },
  {
   "cell_type": "markdown",
   "metadata": {},
   "source": [
    "##### Step 7.3.3 Plot"
   ]
  },
  {
   "cell_type": "code",
   "execution_count": 120,
   "metadata": {},
   "outputs": [
    {
     "data": {
      "text/plain": [
       "<seaborn.axisgrid.FacetGrid at 0x7faf3d005cd0>"
      ]
     },
     "execution_count": 120,
     "metadata": {},
     "output_type": "execute_result"
    },
    {
     "data": {
      "image/png": "[encoded data removed]",
      "text/plain": [
       "<Figure size 648x216 with 3 Axes>"
      ]
     },
     "metadata": {
      "needs_background": "light"
     },
     "output_type": "display_data"
    }
   ],
   "source": [
    "g = sns.FacetGrid(plottable, col='Country')\n",
    "g.map(sns.scatterplot, 'Quantity','AvgPrice', alpha=1)"
   ]
  },
  {
   "cell_type": "markdown",
   "metadata": {},
   "source": [
    "#### Step 7.4 What to do now?\n",
    "We aren't much better-off than what we started with. The data are still extremely scattered around and don't seem quite informative.\n",
    "\n",
    "But we shouldn't despair!\n",
    "There are two things to realize:\n",
    "1) The data seem to be skewed towaards the axes (e.g. we don't have any values where Quantity = 50000 and AvgPrice = 5). So that might suggest a trend.\n",
    "2) We have more data! We've only been looking at the data from 3 different countries and they are plotted on different graphs.\n",
    "\n",
    "So: we should plot the data regardless of `Country` and hopefully see a less scattered graph.\n",
    "\n",
    "##### Step 7.4.1 Plot the data for each `CustomerID` on a single graph"
   ]
  },
  {
   "cell_type": "code",
   "execution_count": 127,
   "metadata": {},
   "outputs": [
    {
     "name": "stderr",
     "output_type": "stream",
     "text": [
      "/Users/NazmiDere/opt/anaconda3/lib/python3.7/site-packages/ipykernel_launcher.py:2: FutureWarning: Indexing with multiple keys (implicitly converted to a tuple of keys) will be deprecated, use a list instead.\n",
      "  \n"
     ]
    },
    {
     "data": {
      "text/html": [
       "<div>\n",
       "<style scoped>\n",
       "    .dataframe tbody tr th:only-of-type {\n",
       "        vertical-align: middle;\n",
       "    }\n",
       "\n",
       "    .dataframe tbody tr th {\n",
       "        vertical-align: top;\n",
       "    }\n",
       "\n",
       "    .dataframe thead tr th {\n",
       "        text-align: left;\n",
       "    }\n",
       "\n",
       "    .dataframe thead tr:last-of-type th {\n",
       "        text-align: right;\n",
       "    }\n",
       "</style>\n",
       "<table border=\"1\" class=\"dataframe\">\n",
       "  <thead>\n",
       "    <tr>\n",
       "      <th></th>\n",
       "      <th>Quantity</th>\n",
       "      <th>Revenue</th>\n",
       "      <th>AvgPrice</th>\n",
       "    </tr>\n",
       "    <tr>\n",
       "      <th></th>\n",
       "      <th>sum</th>\n",
       "      <th>sum</th>\n",
       "      <th></th>\n",
       "    </tr>\n",
       "    <tr>\n",
       "      <th>CustomerID</th>\n",
       "      <th></th>\n",
       "      <th></th>\n",
       "      <th></th>\n",
       "    </tr>\n",
       "  </thead>\n",
       "  <tbody>\n",
       "    <tr>\n",
       "      <th>12346.0</th>\n",
       "      <td>0</td>\n",
       "      <td>0.00</td>\n",
       "      <td>NaN</td>\n",
       "    </tr>\n",
       "    <tr>\n",
       "      <th>12347.0</th>\n",
       "      <td>2458</td>\n",
       "      <td>4310.00</td>\n",
       "      <td>1.753458</td>\n",
       "    </tr>\n",
       "    <tr>\n",
       "      <th>12348.0</th>\n",
       "      <td>2341</td>\n",
       "      <td>1797.24</td>\n",
       "      <td>0.767723</td>\n",
       "    </tr>\n",
       "    <tr>\n",
       "      <th>12349.0</th>\n",
       "      <td>631</td>\n",
       "      <td>1757.55</td>\n",
       "      <td>2.785341</td>\n",
       "    </tr>\n",
       "    <tr>\n",
       "      <th>12350.0</th>\n",
       "      <td>197</td>\n",
       "      <td>334.40</td>\n",
       "      <td>1.697462</td>\n",
       "    </tr>\n",
       "    <tr>\n",
       "      <th>...</th>\n",
       "      <td>...</td>\n",
       "      <td>...</td>\n",
       "      <td>...</td>\n",
       "    </tr>\n",
       "    <tr>\n",
       "      <th>18280.0</th>\n",
       "      <td>45</td>\n",
       "      <td>180.60</td>\n",
       "      <td>4.013333</td>\n",
       "    </tr>\n",
       "    <tr>\n",
       "      <th>18281.0</th>\n",
       "      <td>54</td>\n",
       "      <td>80.82</td>\n",
       "      <td>1.496667</td>\n",
       "    </tr>\n",
       "    <tr>\n",
       "      <th>18282.0</th>\n",
       "      <td>98</td>\n",
       "      <td>176.60</td>\n",
       "      <td>1.802041</td>\n",
       "    </tr>\n",
       "    <tr>\n",
       "      <th>18283.0</th>\n",
       "      <td>1397</td>\n",
       "      <td>2094.88</td>\n",
       "      <td>1.499556</td>\n",
       "    </tr>\n",
       "    <tr>\n",
       "      <th>18287.0</th>\n",
       "      <td>1586</td>\n",
       "      <td>1837.28</td>\n",
       "      <td>1.158436</td>\n",
       "    </tr>\n",
       "  </tbody>\n",
       "</table>\n",
       "<p>4372 rows × 3 columns</p>\n",
       "</div>"
      ],
      "text/plain": [
       "           Quantity  Revenue  AvgPrice\n",
       "                sum      sum          \n",
       "CustomerID                            \n",
       "12346.0           0     0.00       NaN\n",
       "12347.0        2458  4310.00  1.753458\n",
       "12348.0        2341  1797.24  0.767723\n",
       "12349.0         631  1757.55  2.785341\n",
       "12350.0         197   334.40  1.697462\n",
       "...             ...      ...       ...\n",
       "18280.0          45   180.60  4.013333\n",
       "18281.0          54    80.82  1.496667\n",
       "18282.0          98   176.60  1.802041\n",
       "18283.0        1397  2094.88  1.499556\n",
       "18287.0        1586  1837.28  1.158436\n",
       "\n",
       "[4372 rows x 3 columns]"
      ]
     },
     "execution_count": 127,
     "metadata": {},
     "output_type": "execute_result"
    }
   ],
   "source": [
    "grouped = online_rt.groupby('CustomerID')\n",
    "plottable = grouped['Quantity','Revenue'].agg(['sum'])\n",
    "plottable['AvgPrice'] = plottable['Revenue'] / plottable['Quantity']\n",
    "plottable"
   ]
  },
  {
   "cell_type": "code",
   "execution_count": 128,
   "metadata": {},
   "outputs": [
    {
     "data": {
      "text/plain": [
       "<matplotlib.collections.PathCollection at 0x7faf15aa5790>"
      ]
     },
     "execution_count": 128,
     "metadata": {},
     "output_type": "execute_result"
    },
    {
     "data": {
      "image/png": "[encoded data removed]",
      "text/plain": [
       "<Figure size 432x288 with 1 Axes>"
      ]
     },
     "metadata": {
      "needs_background": "light"
     },
     "output_type": "display_data"
    }
   ],
   "source": [
    "plt.scatter(plottable['Quantity'], plottable['AvgPrice'])"
   ]
  },
  {
   "cell_type": "markdown",
   "metadata": {},
   "source": [
    "##### Step 7.4.2 Zoom in so we can see that curve more clearly"
   ]
  },
  {
   "cell_type": "code",
   "execution_count": 129,
   "metadata": {},
   "outputs": [],
   "source": [
    "grouped = online_rt.groupby(['CustomerID','Country'])\n",
    "plottable = grouped.agg({'Quantity':'sum', 'Revenue':'sum'})"
   ]
  },
  {
   "cell_type": "code",
   "execution_count": 131,
   "metadata": {},
   "outputs": [],
   "source": [
    "plottable['AvgPrice'] = plottable['Revenue'] / plottable['Quantity']"
   ]
  },
  {
   "cell_type": "code",
   "execution_count": 135,
   "metadata": {},
   "outputs": [
    {
     "data": {
      "text/plain": [
       "(-1, 80)"
      ]
     },
     "execution_count": 135,
     "metadata": {},
     "output_type": "execute_result"
    },
    {
     "data": {
      "image/png": "[encoded data removed]",
      "text/plain": [
       "<Figure size 432x288 with 1 Axes>"
      ]
     },
     "metadata": {
      "needs_background": "light"
     },
     "output_type": "display_data"
    }
   ],
   "source": [
    "plt.scatter(plottable['Quantity'], plottable['AvgPrice'])\n",
    "plt.xlim(-40,2000)\n",
    "plt.ylim(-1,80)"
   ]
  },
  {
   "cell_type": "markdown",
   "metadata": {},
   "source": [
    "### 8. Plot a line chart showing revenue (y) per UnitPrice (x).\n",
    "\n",
    "Did Step 7 give us any insights about the data? Sure! As average price increases, the quantity ordered decreses.  But that's hardly surprising. It would be surprising if that wasn't the case!\n",
    "\n",
    "Nevertheless the rate of drop in quantity is so drastic, it makes me wonder how our revenue changes with respect to item price. It would not be that surprising if it didn't change that much. But it would be interesting to know whether most of our revenue comes from expensive or inexpensive items, and how that relation looks like.\n",
    "\n",
    "That is what we are going to do now.\n",
    "\n",
    "#### 8.1 Group `UnitPrice` by intervals of 1 for prices [0,50), and sum `Quantity` and `Revenue`."
   ]
  },
  {
   "cell_type": "code",
   "execution_count": 136,
   "metadata": {},
   "outputs": [],
   "source": [
    "price_start = 0\n",
    "price_end = 50\n",
    "price_interval = 1"
   ]
  },
  {
   "cell_type": "code",
   "execution_count": 139,
   "metadata": {},
   "outputs": [],
   "source": [
    "buckets = np.arange(price_start,price_end,price_interval)"
   ]
  },
  {
   "cell_type": "code",
   "execution_count": 143,
   "metadata": {},
   "outputs": [
    {
     "data": {
      "text/plain": [
       "UnitPrice\n",
       "(0, 1]      1.089068e+06\n",
       "(1, 2]      2.557511e+06\n",
       "(2, 3]      1.803382e+06\n",
       "(3, 4]      8.499193e+05\n",
       "(4, 5]      1.199347e+06\n",
       "(5, 6]      3.789279e+05\n",
       "(6, 7]      2.604464e+05\n",
       "(7, 8]      2.965417e+05\n",
       "(8, 9]      3.724522e+05\n",
       "(9, 10]     1.576296e+05\n",
       "(10, 11]    2.282689e+05\n",
       "(11, 12]    2.501608e+04\n",
       "(12, 13]    1.949849e+05\n",
       "(13, 14]    1.053364e+04\n",
       "(14, 15]    7.214595e+04\n",
       "(15, 16]    2.093207e+04\n",
       "(16, 17]    8.197150e+04\n",
       "(17, 18]    3.601663e+04\n",
       "(18, 19]    6.721600e+02\n",
       "(19, 20]    1.737452e+04\n",
       "(20, 21]    2.073507e+04\n",
       "(21, 22]    2.617530e+03\n",
       "(22, 23]   -2.253000e+01\n",
       "(23, 24]    2.600000e-01\n",
       "(24, 25]    4.190954e+04\n",
       "(25, 26]    1.198029e+04\n",
       "(26, 27]    5.487000e+01\n",
       "(27, 28]    8.794610e+03\n",
       "(28, 29]   -2.806000e+01\n",
       "(29, 30]    7.930630e+03\n",
       "(30, 31]   -9.110000e+01\n",
       "(31, 32]   -6.358000e+01\n",
       "(32, 33]    2.910190e+03\n",
       "(33, 34]    5.087000e+03\n",
       "(34, 35]    8.316130e+03\n",
       "(35, 36]    2.727860e+03\n",
       "(36, 37]    1.452900e+02\n",
       "(37, 38]    3.747000e+01\n",
       "(38, 39]   -3.858000e+01\n",
       "(39, 40]    1.975119e+04\n",
       "(40, 41]    4.046000e+01\n",
       "(41, 42]    5.835300e+02\n",
       "(42, 43]    1.300500e+02\n",
       "(43, 44]   -6.000000e-02\n",
       "(44, 45]    1.800000e+02\n",
       "(45, 46]   -9.050000e+01\n",
       "(46, 47]    9.299000e+01\n",
       "(47, 48]   -3.100000e-01\n",
       "(48, 49]    0.000000e+00\n",
       "Name: Revenue, dtype: float64"
      ]
     },
     "execution_count": 143,
     "metadata": {},
     "output_type": "execute_result"
    }
   ],
   "source": [
    "revenue_per_price = online_rt.groupby(pd.cut(online_rt['UnitPrice'], buckets))['Revenue'].sum()\n",
    "revenue_per_price"
   ]
  },
  {
   "cell_type": "markdown",
   "metadata": {},
   "source": [
    "#### 8.3 Plot."
   ]
  },
  {
   "cell_type": "code",
   "execution_count": 144,
   "metadata": {},
   "outputs": [
    {
     "data": {
      "text/plain": [
       "<matplotlib.axes._subplots.AxesSubplot at 0x7faeebeeef90>"
      ]
     },
     "execution_count": 144,
     "metadata": {},
     "output_type": "execute_result"
    },
    {
     "data": {
      "image/png": "[encoded data removed]",
      "text/plain": [
       "<Figure size 432x288 with 1 Axes>"
      ]
     },
     "metadata": {
      "needs_background": "light"
     },
     "output_type": "display_data"
    }
   ],
   "source": [
    "revenue_per_price.plot()"
   ]
  },
  {
   "cell_type": "markdown",
   "metadata": {},
   "source": [
    "#### 8.4 Make it look nicer.\n",
    "x-axis needs values.  \n",
    "y-axis isn't that easy to read; show in terms of millions."
   ]
  },
  {
   "cell_type": "code",
   "execution_count": 148,
   "metadata": {},
   "outputs": [
    {
     "data": {
      "text/plain": [
       "([<matplotlib.axis.YTick at 0x7faeed46db90>,\n",
       "  <matplotlib.axis.YTick at 0x7faeed402990>,\n",
       "  <matplotlib.axis.YTick at 0x7faeed472c90>,\n",
       "  <matplotlib.axis.YTick at 0x7faeed4c7850>,\n",
       "  <matplotlib.axis.YTick at 0x7faeed4c3890>,\n",
       "  <matplotlib.axis.YTick at 0x7faeed4b4c50>],\n",
       " <a list of 6 Text yticklabel objects>)"
      ]
     },
     "execution_count": 148,
     "metadata": {},
     "output_type": "execute_result"
    },
    {
     "data": {
      "image/png": "[encoded data removed]",
      "text/plain": [
       "<Figure size 432x288 with 1 Axes>"
      ]
     },
     "metadata": {
      "needs_background": "light"
     },
     "output_type": "display_data"
    }
   ],
   "source": [
    "revenue_per_price.plot()\n",
    "\n",
    "plt.xlabel('Unit price (in buckets of'+str(price_interval)+')')\n",
    "plt.ylabel('Revenue')\n",
    "\n",
    "plt.xticks(np.arange(price_start,price_end,3))\n",
    "plt.yticks([0,500000,1000000,1500000,2000000,2500000],\n",
    "          ['0','0.5M','1M','1.5M','2M','2.5M'])"
   ]
  },
  {
   "cell_type": "markdown",
   "metadata": {},
   "source": [
    "### BONUS: Create your own question and answer it."
   ]
  },
  {
   "cell_type": "code",
   "execution_count": null,
   "metadata": {},
   "outputs": [],
   "source": []
  }
 ],
 "metadata": {
  "kernelspec": {
   "display_name": "Python 3",
   "language": "python",
   "name": "python3"
  },
  "language_info": {
   "codemirror_mode": {
    "name": "ipython",
    "version": 3
   },
   "file_extension": ".py",
   "mimetype": "text/x-python",
   "name": "python",
   "nbconvert_exporter": "python",
   "pygments_lexer": "ipython3",
   "version": "3.7.4"
  }
 },
 "nbformat": 4,
 "nbformat_minor": 1
}
